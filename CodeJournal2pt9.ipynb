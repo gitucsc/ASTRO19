{
 "cells": [
  {
   "cell_type": "code",
   "execution_count": null,
   "id": "fe8895e6-b326-4c76-a8e1-de2b8edf41b3",
   "metadata": {},
   "outputs": [],
   "source": [
    "# import modules\n",
    "import numpy as np \n",
    "import matplotlib.pyplot as plt"
   ]
  },
  {
   "cell_type": "code",
   "execution_count": null,
   "id": "fd33169f-33d6-411b-9e44-609a54c89496",
   "metadata": {},
   "outputs": [],
   "source": [
    "# generate 1000 random numbers between [0, 1]\n",
    "random_numbers = np.random.uniform(0, 1, 1000)\n",
    "\n",
    "# histogram with 100 bins\n",
    "plt.hist(random_numbers, bins=100, color='purple', edgecolor='whit')\n",
    "\n",
    "# label the axes\n",
    "plt.xlabel('Random Numbers')\n",
    "plt.ylabel('Frequency')\n",
    "\n",
    "# plot title\n",
    "plt.title('Histogram of Uniformly Distributed Random Numbers')\n",
    "\n",
    "# save the figure as a PDF\n",
    "plt.savefig('uniform_random_histogram.pdf')\n",
    "\n",
    "# show the plot\n",
    "plt.show()\n"
   ]
  }
 ],
 "metadata": {
  "kernelspec": {
   "display_name": "Python 3 (ipykernel)",
   "language": "python",
   "name": "python3"
  },
  "language_info": {
   "codemirror_mode": {
    "name": "ipython",
    "version": 3
   },
   "file_extension": ".py",
   "mimetype": "text/x-python",
   "name": "python",
   "nbconvert_exporter": "python",
   "pygments_lexer": "ipython3",
   "version": "3.11.5"
  }
 },
 "nbformat": 4,
 "nbformat_minor": 5
}
