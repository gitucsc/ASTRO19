{
 "cells": [
  {
   "cell_type": "code",
   "execution_count": null,
   "id": "312f39fc-3795-4f12-9075-123d63ae18ac",
   "metadata": {},
   "outputs": [],
   "source": [
    "f(x) = sin(x)\n",
    "##the function sin(x) will produce a repeating graph increasing on each (0,2pi) and (3pi/2, 2pi), decreasing on each (pi/2,3pi/2). "
   ]
  },
  {
   "cell_type": "code",
   "execution_count": null,
   "id": "ca2e6203-b501-487e-b3bb-530829e514ee",
   "metadata": {},
   "outputs": [],
   "source": [
    "g(x) = cos(x)\n",
    "##the function cos(x) will also produce a repeating graph increasing on each (0,pi) and decreasing on (pi, 2pi).  "
   ]
  },
  {
   "cell_type": "code",
   "execution_count": null,
   "id": "bc08e5ef-d58b-4f75-b548-b42fdd12e49f",
   "metadata": {},
   "outputs": [],
   "source": [
    "from tabulate import tabulate \n",
    "##import modules \n",
    "\n",
    "data = (0,2Pi,1000); \n",
    "##add data array \n",
    "\n",
    "col_names = ['sin(x)','cos(x)']\n",
    "##define header names\n",
    "\n",
    "print(tabulate(data, headers=col_names)\n",
    "##display table? "
   ]
  },
  {
   "cell_type": "code",
   "execution_count": 8,
   "id": "24ae0b96-d08c-4acc-96c7-187ef6c6312c",
   "metadata": {},
   "outputs": [
    {
     "ename": "TypeError",
     "evalue": "'float' object cannot be interpreted as an integer",
     "output_type": "error",
     "traceback": [
      "\u001b[0;31m---------------------------------------------------------------------------\u001b[0m",
      "\u001b[0;31mTypeError\u001b[0m                                 Traceback (most recent call last)",
      "Cell \u001b[0;32mIn[8], line 1\u001b[0m\n\u001b[0;32m----> 1\u001b[0m my_list \u001b[38;5;241m=\u001b[39m \u001b[38;5;28;43mrange\u001b[39;49m\u001b[43m(\u001b[49m\u001b[38;5;241;43m0\u001b[39;49m\u001b[43m,\u001b[49m\u001b[38;5;241;43m6.28\u001b[39;49m\u001b[43m,\u001b[49m\u001b[38;5;241;43m10\u001b[39;49m\u001b[43m)\u001b[49m \n\u001b[1;32m      2\u001b[0m \u001b[38;5;28;01mfor\u001b[39;00m i \u001b[38;5;129;01min\u001b[39;00m my_list: \n\u001b[1;32m      3\u001b[0m     \u001b[38;5;28mprint\u001b[39m(i)\n",
      "\u001b[0;31mTypeError\u001b[0m: 'float' object cannot be interpreted as an integer"
     ]
    }
   ],
   "source": [
    "my_list = range(0,6.28,10) \n",
    "for i in my_list: \n",
    "    print(i)"
   ]
  },
  {
   "cell_type": "code",
   "execution_count": null,
   "id": "84e49149-d6cb-4ed4-bd45-2b854130e940",
   "metadata": {},
   "outputs": [],
   "source": []
  }
 ],
 "metadata": {
  "kernelspec": {
   "display_name": "Python 3 (ipykernel)",
   "language": "python",
   "name": "python3"
  },
  "language_info": {
   "codemirror_mode": {
    "name": "ipython",
    "version": 3
   },
   "file_extension": ".py",
   "mimetype": "text/x-python",
   "name": "python",
   "nbconvert_exporter": "python",
   "pygments_lexer": "ipython3",
   "version": "3.11.5"
  }
 },
 "nbformat": 4,
 "nbformat_minor": 5
}
