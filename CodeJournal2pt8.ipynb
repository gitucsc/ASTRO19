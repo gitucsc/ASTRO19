{
 "cells": [
  {
   "cell_type": "code",
   "execution_count": null,
   "id": "4c5141b5-e071-4974-96d2-e0ddd8ba8d06",
   "metadata": {},
   "outputs": [],
   "source": [
    "#import modules\n",
    "import numpy as np\n",
    "import matplotlib.pyplot as plt\n",
    "\n",
    "# create an array \n",
    "x = np.linspace(0, 1, 100)\n",
    "\n",
    "# define functions for sin(x) and cos(x)\n",
    "def sin_function(x):\n",
    "    return np.sin(x)\n",
    "\n",
    "def cos_function(x):\n",
    "    return np.cos(x)\n",
    "    "
   ]
  },
  {
   "cell_type": "code",
   "execution_count": null,
   "id": "e90c67e8-54f8-43d5-9849-fdd2778b49af",
   "metadata": {},
   "outputs": [],
   "source": [
    "# create a multipanel plot (1 row, 2 columns)\n",
    "fig, axs = plt.subplots(1, 2, figsize=(12, 5))\n",
    "\n",
    "# plot sin(x) vs. x in the left panel\n",
    "axs[0].plot(x, sin_function(x), label='sin(x)')\n",
    "axs[0].set_xlabel('x')\n",
    "axs[0].set_ylabel('sin(x)')\n",
    "axs[0].legend()\n",
    "\n",
    "# plot cos(x) vs. x in the right panel\n",
    "axs[1].plot(x, cos_function(x), label='cos(x)', color='orange')\n",
    "axs[1].set_xlabel('x')\n",
    "axs[1].set_ylabel('cos(x)')\n",
    "axs[1].legend()\n",
    "\n",
    "# adjust layout for better spacing\n",
    "plt.tight_layout()\n"
   ]
  }
 ],
 "metadata": {
  "kernelspec": {
   "display_name": "Python 3 (ipykernel)",
   "language": "python",
   "name": "python3"
  },
  "language_info": {
   "codemirror_mode": {
    "name": "ipython",
    "version": 3
   },
   "file_extension": ".py",
   "mimetype": "text/x-python",
   "name": "python",
   "nbconvert_exporter": "python",
   "pygments_lexer": "ipython3",
   "version": "3.11.5"
  }
 },
 "nbformat": 4,
 "nbformat_minor": 5
}
